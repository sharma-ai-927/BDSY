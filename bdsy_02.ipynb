{
 "cells": [
  {
   "cell_type": "markdown",
   "metadata": {},
   "source": [
    "# The basics of Python continued....\n",
    "\n",
    "In this notebook we will continue learning some of the basic syntax and data structures of Python. "
   ]
  },
  {
   "cell_type": "markdown",
   "metadata": {},
   "source": [
    "## Review of the basics of Python\n",
    "\n",
    "Let's review the basics of Python with a \"number journey\"...\n",
    "1. Create a floating point number 3.14159 and assign it to the name `pi_approx`.\n",
    "2. Multiple `pi_approx` by 2 and assign to the name `pi_approx_2x`\n",
    "3. Convert `pi_approx` to an integer and assign it in the name `just_an_int`\n",
    "4. Divide `just_an_int` by -8 and assign it to the name `a_negative_float`\n",
    "5. Take the absolute value of `a_negative_float` and assign it to the name `a_positive_float` and print out the value of `a_positive_float`. \n",
    "\n",
    "Hint, the following functions could be useful: `int()`, `abs()`\n"
   ]
  },
  {
   "cell_type": "code",
   "execution_count": null,
   "metadata": {},
   "outputs": [],
   "source": [
    "pi_approx = ...\n",
    "\n",
    "pi_approx_2x = ...\n",
    "\n",
    "just_an_int = ...\n",
    "\n",
    "a_negative_float = ...\n",
    "\n",
    "a_positive_float = ...\n",
    "\n",
    "print(a_positive_float)\n",
    "\n"
   ]
  },
  {
   "cell_type": "markdown",
   "metadata": {},
   "source": [
    "## Strings ##\n",
    "\n",
    "Strings are how Python represents text. Strings can be created by putting text in either single quotes or in double quotes, but the same type of quote must be used at the start and end of the string. \n",
    "\n",
    "* `\"This is a string created using double quotes\"`\n",
    "* `'This is a string created using single quotes'`\n",
    "* `'This is not a correctly formed string because it starts with a single quote and ends with a double quote\"`\n"
   ]
  },
  {
   "cell_type": "code",
   "execution_count": null,
   "metadata": {},
   "outputs": [],
   "source": [
    "# create a string\n"
   ]
  },
  {
   "cell_type": "code",
   "execution_count": null,
   "metadata": {},
   "outputs": [],
   "source": [
    "# create another string\n"
   ]
  },
  {
   "cell_type": "code",
   "execution_count": null,
   "metadata": {},
   "outputs": [],
   "source": [
    " # concatenation\n"
   ]
  },
  {
   "cell_type": "code",
   "execution_count": null,
   "metadata": {},
   "outputs": [],
   "source": [
    " # concatenation\n"
   ]
  },
  {
   "cell_type": "code",
   "execution_count": null,
   "metadata": {},
   "outputs": [],
   "source": [
    "# multiplication \n"
   ]
  },
  {
   "cell_type": "code",
   "execution_count": null,
   "metadata": {},
   "outputs": [],
   "source": [
    "# convert a number to a string \n"
   ]
  },
  {
   "cell_type": "code",
   "execution_count": null,
   "metadata": {},
   "outputs": [],
   "source": [
    "# convert a string to an interger\n"
   ]
  },
  {
   "cell_type": "code",
   "execution_count": null,
   "metadata": {},
   "outputs": [],
   "source": [
    "# convert a string to an interger - take 2\n",
    "\n",
    "# int('2.3')"
   ]
  },
  {
   "cell_type": "code",
   "execution_count": null,
   "metadata": {},
   "outputs": [],
   "source": [
    "# convert a string to a float\n"
   ]
  },
  {
   "cell_type": "code",
   "execution_count": null,
   "metadata": {},
   "outputs": [],
   "source": [
    "# convert a string to an integer - take 3\n"
   ]
  },
  {
   "cell_type": "code",
   "execution_count": null,
   "metadata": {},
   "outputs": [],
   "source": [
    "# building numbers through string concatenation \n"
   ]
  },
  {
   "cell_type": "code",
   "execution_count": null,
   "metadata": {},
   "outputs": [],
   "source": [
    "# building numbers through string concatenation - take 2\n"
   ]
  },
  {
   "cell_type": "code",
   "execution_count": null,
   "metadata": {},
   "outputs": [],
   "source": [
    "# using differen types of quotes \n"
   ]
  },
  {
   "cell_type": "code",
   "execution_count": null,
   "metadata": {},
   "outputs": [],
   "source": [
    "# using differen types of quotes - take 2\n"
   ]
  },
  {
   "cell_type": "markdown",
   "metadata": {},
   "source": [
    "## Types ##\n",
    "\n",
    "Which can check what *type* is being stored in a name using the `type()` function. "
   ]
  },
  {
   "cell_type": "code",
   "execution_count": null,
   "metadata": {},
   "outputs": [],
   "source": []
  },
  {
   "cell_type": "code",
   "execution_count": null,
   "metadata": {},
   "outputs": [],
   "source": []
  },
  {
   "cell_type": "code",
   "execution_count": null,
   "metadata": {},
   "outputs": [],
   "source": []
  },
  {
   "cell_type": "code",
   "execution_count": null,
   "metadata": {},
   "outputs": [],
   "source": []
  },
  {
   "cell_type": "markdown",
   "metadata": {},
   "source": [
    "## Lists \n",
    "\n",
    "Lists are a \"data structure\" we can use that can hold multiple values. \n",
    "\n",
    "We use the square brackets to create lists; e.g., `my_list = [1, 2, 3]`\n",
    "\n",
    "We can also access elements using "
   ]
  },
  {
   "cell_type": "code",
   "execution_count": null,
   "metadata": {},
   "outputs": [],
   "source": [
    "# A list of numbers\n"
   ]
  },
  {
   "cell_type": "code",
   "execution_count": null,
   "metadata": {},
   "outputs": [],
   "source": [
    "# A list of strings\n"
   ]
  },
  {
   "cell_type": "code",
   "execution_count": null,
   "metadata": {},
   "outputs": [],
   "source": [
    "# Lists can hold elements of different types\n"
   ]
  },
  {
   "cell_type": "code",
   "execution_count": null,
   "metadata": {},
   "outputs": [],
   "source": [
    "# We can access elements of a list also using square brackets\n"
   ]
  },
  {
   "cell_type": "code",
   "execution_count": null,
   "metadata": {},
   "outputs": [],
   "source": [
    "# We can replace elments of a list as well\n"
   ]
  },
  {
   "cell_type": "code",
   "execution_count": null,
   "metadata": {},
   "outputs": [],
   "source": [
    "# concatenating lists\n"
   ]
  },
  {
   "cell_type": "code",
   "execution_count": null,
   "metadata": {},
   "outputs": [],
   "source": [
    "# getting the number of elements in a list using the len() function \n"
   ]
  },
  {
   "cell_type": "code",
   "execution_count": null,
   "metadata": {},
   "outputs": [],
   "source": [
    "# slicing lists\n"
   ]
  },
  {
   "cell_type": "code",
   "execution_count": null,
   "metadata": {},
   "outputs": [],
   "source": [
    "# start at a different index\n"
   ]
  },
  {
   "cell_type": "code",
   "execution_count": null,
   "metadata": {},
   "outputs": [],
   "source": [
    "# what does this do? \n"
   ]
  },
  {
   "cell_type": "code",
   "execution_count": null,
   "metadata": {},
   "outputs": [],
   "source": [
    "# If a list is all numbers we can sum the values, or the maximum value\n"
   ]
  },
  {
   "cell_type": "code",
   "execution_count": null,
   "metadata": {},
   "outputs": [],
   "source": [
    "# Can't sum values that are not numbers\n"
   ]
  },
  {
   "cell_type": "markdown",
   "metadata": {},
   "source": [
    "# Example: NBA Salaries\n",
    "\n",
    "Let's look a salaries of basketball players in the NBA! The data we will analyze contains infomraiton about each player including their salary from the 2022-2023 season listed in millions of dollars.  \n",
    "\n",
    "We will load the data as a \"pandas DataFrame\" which is a data structure we will discuss more in a couple of weeks. We will then convert the data to lists and dictionaries to explore it further. \n",
    "\n",
    "This table can be found online: https://www.statcrunch.com/app/index.php?dataid=1843341\n"
   ]
  },
  {
   "cell_type": "code",
   "execution_count": 3,
   "metadata": {},
   "outputs": [],
   "source": [
    "import pandas as pd\n",
    "\n",
    "# download the data (manually).\n",
    "nba_file_name = \"nba_salaries_2022_23.csv\"   \n",
    "\n",
    "\n",
    "# load in the data\n",
    "nba = pd.read_csv(nba_file_name)  \n",
    "\n",
    "# show the first 6 rows\n",
    "nba.head()  \n"
   ]
  },
  {
   "cell_type": "code",
   "execution_count": null,
   "metadata": {},
   "outputs": [],
   "source": [
    "# get the salaries as a list\n",
    "\n",
    "salary_list = nba[\"SALARY\"].to_list()\n",
    "player_list = nba[\"PLAYER\"].to_list()\n"
   ]
  },
  {
   "cell_type": "code",
   "execution_count": null,
   "metadata": {},
   "outputs": [],
   "source": [
    "# Who is the first player listed?\n"
   ]
  },
  {
   "cell_type": "code",
   "execution_count": null,
   "metadata": {},
   "outputs": [],
   "source": [
    "# What is the salary of the first 5 players?\n"
   ]
  },
  {
   "cell_type": "code",
   "execution_count": null,
   "metadata": {},
   "outputs": [],
   "source": [
    "# What is the maximum and minimum salaries? \n"
   ]
  },
  {
   "cell_type": "code",
   "execution_count": null,
   "metadata": {},
   "outputs": [],
   "source": [
    "# What is the minimum salary in dollars (rather than millions of dollars)?\n"
   ]
  },
  {
   "cell_type": "code",
   "execution_count": null,
   "metadata": {},
   "outputs": [],
   "source": [
    "# What is the average salary?\n"
   ]
  },
  {
   "cell_type": "markdown",
   "metadata": {},
   "source": [
    "## Text manipulation\n",
    "\n",
    "A large part of Data Scientists' time is spent cleaning data, and a large part of data cleaning consists of manipulating text.\n",
    "\n",
    "Let's explore some of the functions that are built into Python for manipulating strings of text. "
   ]
  },
  {
   "cell_type": "markdown",
   "metadata": {},
   "source": [
    "### 1. Changing capitalization\n",
    "\n",
    "One of the most basic things we can do is to change the capitalization of a piece of text. \n",
    "\n",
    "One case where this comes up is when one is merging two DataFrames that have the same key values but the values have different capitalization. For example, one might have two DataFrames that have a column that has the names of different countries, but in one DataFrame the country names are capitalized and in the other they are not. \n",
    "\n",
    "Python strings have a number of methods to change the capitalization of words including: \n",
    "\n",
    "- `capitalize()`: Converts the first character to upper case\n",
    "- `lower()`: Converts a string into lower case\n",
    "- `upper()`: Converts a string into upper case\n",
    "- `title()`: Converts the first character of each word to upper case\n",
    "- `swapcase()`: Swaps cases, lower case becomes upper case and vice versa\n",
    "\n",
    "Let's explore these methods by manipulating this [quote](https://www.brainyquote.com/topics/yale-quotes) from [Herman Melville](https://en.wikipedia.org/wiki/Herman_Melville): \"a whale ship was my Yale College and my Harvard\". \n"
   ]
  },
  {
   "cell_type": "code",
   "execution_count": null,
   "metadata": {},
   "outputs": [],
   "source": [
    "melville_quote = \"a whale ship was my Yale College and my Harvard\"\n",
    "\n",
    "melville_quote\n"
   ]
  },
  {
   "cell_type": "code",
   "execution_count": null,
   "metadata": {},
   "outputs": [],
   "source": [
    "# Capitalize the first letter \n"
   ]
  },
  {
   "cell_type": "code",
   "execution_count": null,
   "metadata": {},
   "outputs": [],
   "source": [
    "# Convert all letters to lower case\n"
   ]
  },
  {
   "cell_type": "code",
   "execution_count": null,
   "metadata": {},
   "outputs": [],
   "source": [
    "# Convert all letters to upper case\n"
   ]
  },
  {
   "cell_type": "code",
   "execution_count": null,
   "metadata": {},
   "outputs": [],
   "source": [
    "# Make the first letter of each word capitalized\n"
   ]
  },
  {
   "cell_type": "code",
   "execution_count": null,
   "metadata": {},
   "outputs": [],
   "source": [
    "# Make uppercase lowercase, and lowercase uppercase\n"
   ]
  },
  {
   "cell_type": "markdown",
   "metadata": {},
   "source": [
    "### 2. Splitting and joining strings\n",
    "\n",
    "There are several methods that can help us join strings that are contained into a list into a single string, or conversely, parse a single string into a list of strings. These include: \n",
    "\n",
    "- `split(separator_string)`: Splits the string at the specified separator, and returns a list\n",
    "- `splitlines()`: Splits the string at line breaks and returns a list\n",
    "- `join(a_list)`: Converts the elements of an iterable into a string"
   ]
  },
  {
   "cell_type": "code",
   "execution_count": null,
   "metadata": {},
   "outputs": [],
   "source": [
    "# Split the Melville quote at each space into a list\n"
   ]
  },
  {
   "cell_type": "code",
   "execution_count": null,
   "metadata": {},
   "outputs": [],
   "source": [
    "# get the element at index 1\n"
   ]
  },
  {
   "cell_type": "code",
   "execution_count": null,
   "metadata": {},
   "outputs": [],
   "source": [
    "# Split a string at each line into a list\n",
    "\n",
    "poem = \"\"\"Some say the world will end in fire,\n",
    "Some say in ice.\n",
    "From what I’ve tasted of desire\n",
    "I hold with those who favor fire.\n",
    "But if it had to perish twice,\n",
    "I think I know enough of hate\n",
    "To say that for destruction ice\n",
    "Is also great\n",
    "And would suffice.\"\"\"\n",
    "\n",
    "poem"
   ]
  },
  {
   "cell_type": "code",
   "execution_count": null,
   "metadata": {},
   "outputs": [],
   "source": [
    "# Split the poem into a list \n"
   ]
  },
  {
   "cell_type": "code",
   "execution_count": null,
   "metadata": {},
   "outputs": [],
   "source": [
    "# Join a string together\n",
    "\n"
   ]
  },
  {
   "cell_type": "markdown",
   "metadata": {},
   "source": [
    "### 3. Finding and replacing substrings\n",
    "\n",
    "Some methods for locating a substring within a larger string include: \n",
    "\n",
    "- `count(substring)`: Returns the number of times a specified value occurs in a string\n",
    "- `replace(original_str, replacement_str)`: Replace a substring with a different string.\n",
    "\n",
    "Also: \n",
    "- `startswith(substring)`: Returns true if the string starts with the specified value\n",
    "- `endswith(substring)` : Returns true if the string ends with the specified value "
   ]
  },
  {
   "cell_type": "code",
   "execution_count": null,
   "metadata": {},
   "outputs": [],
   "source": [
    "# How many times does the word \"my\" occur in the Melville quote? \n"
   ]
  },
  {
   "cell_type": "code",
   "execution_count": null,
   "metadata": {},
   "outputs": [],
   "source": [
    "# Replace a substring\n"
   ]
  },
  {
   "cell_type": "code",
   "execution_count": null,
   "metadata": {},
   "outputs": [],
   "source": [
    "# Does the quote start with \"a\"?\n"
   ]
  },
  {
   "cell_type": "code",
   "execution_count": null,
   "metadata": {},
   "outputs": [],
   "source": [
    "# Does the quote end with Harvard? \n"
   ]
  },
  {
   "cell_type": "markdown",
   "metadata": {},
   "source": [
    "### Example: string processing on webpages\n",
    "\n",
    "As an example, let's do some string processing on webpages!\n"
   ]
  },
  {
   "cell_type": "code",
   "execution_count": 4,
   "metadata": {},
   "outputs": [
    {
     "data": {
      "text/plain": [
       "324901"
      ]
     },
     "execution_count": 4,
     "metadata": {},
     "output_type": "execute_result"
    }
   ],
   "source": [
    "# Download a webpage and save it as a file called politics.html\n",
    "\n",
    "import requests\n",
    "\n",
    "url = 'https://www.foxnews.com/media/gen-z-influencers-thank-president-elect-trump-saving-tiktok'\n",
    "r = requests.get(url, allow_redirects=True)\n",
    "open('politics.html', 'wb').write(r.content)\n",
    "\n"
   ]
  },
  {
   "cell_type": "code",
   "execution_count": 5,
   "metadata": {},
   "outputs": [],
   "source": [
    "# Read in the file as a string called webpage_string\n",
    "file = open('politics.html', 'r', encoding=\"utf8\")\n",
    "webpage_string = file.read()\n",
    "\n",
    "# Look at the first 300 characters \n"
   ]
  },
  {
   "cell_type": "code",
   "execution_count": null,
   "metadata": {},
   "outputs": [],
   "source": [
    "# Replace a word on the webpage\n",
    "\n",
    "webpage_updated = ...\n"
   ]
  },
  {
   "cell_type": "code",
   "execution_count": null,
   "metadata": {},
   "outputs": [],
   "source": [
    "# Write updated string to a file\n",
    "text_file = open(\"updated_politics.html\", \"w\", encoding=\"utf8\")\n",
    "n = text_file.write(webpage_updated)\n",
    "text_file.close()"
   ]
  },
  {
   "cell_type": "raw",
   "metadata": {},
   "source": []
  },
  {
   "cell_type": "markdown",
   "metadata": {},
   "source": [
    "## Comparisons ##\n",
    "\n",
    "We can do simple mathematical and string comparisons in Python which return Boolean values."
   ]
  },
  {
   "cell_type": "code",
   "execution_count": null,
   "metadata": {},
   "outputs": [],
   "source": [
    "# The Boolean True\n"
   ]
  },
  {
   "cell_type": "code",
   "execution_count": null,
   "metadata": {},
   "outputs": [],
   "source": [
    "# The Boolean False"
   ]
  },
  {
   "cell_type": "code",
   "execution_count": null,
   "metadata": {},
   "outputs": [],
   "source": []
  },
  {
   "cell_type": "code",
   "execution_count": null,
   "metadata": {},
   "outputs": [],
   "source": [
    "# True is equal to 1 and Fase is equal to 0\n"
   ]
  },
  {
   "cell_type": "code",
   "execution_count": null,
   "metadata": {},
   "outputs": [],
   "source": [
    "# basic math comparison\n"
   ]
  },
  {
   "cell_type": "code",
   "execution_count": null,
   "metadata": {},
   "outputs": [],
   "source": [
    "# checking the type of a basic math comparison\n"
   ]
  },
  {
   "cell_type": "code",
   "execution_count": null,
   "metadata": {},
   "outputs": [],
   "source": [
    "# another basic math comparison\n"
   ]
  },
  {
   "cell_type": "code",
   "execution_count": null,
   "metadata": {},
   "outputs": [],
   "source": [
    "# We use == to compare whether two items are equal (not 5 = 5)\n"
   ]
  },
  {
   "cell_type": "code",
   "execution_count": null,
   "metadata": {},
   "outputs": [],
   "source": [
    "x = 20\n",
    "y = 7"
   ]
  },
  {
   "cell_type": "code",
   "execution_count": null,
   "metadata": {},
   "outputs": [],
   "source": [
    "# we can compare whether a value is between two values\n"
   ]
  },
  {
   "cell_type": "code",
   "execution_count": null,
   "metadata": {},
   "outputs": [],
   "source": [
    "# we can also do mathematical operations between logical comparisons\n"
   ]
  },
  {
   "cell_type": "code",
   "execution_count": null,
   "metadata": {},
   "outputs": [],
   "source": [
    "# we can use the `and` keyword to combine multiple logical statements \n"
   ]
  },
  {
   "cell_type": "code",
   "execution_count": null,
   "metadata": {},
   "outputs": [],
   "source": [
    "# we can also use the `or` keyword to combine multiple logical statements \n"
   ]
  },
  {
   "cell_type": "code",
   "execution_count": null,
   "metadata": {},
   "outputs": [],
   "source": [
    "# We can also compare strings\n"
   ]
  },
  {
   "cell_type": "code",
   "execution_count": null,
   "metadata": {},
   "outputs": [],
   "source": [
    "# Stings compare alphabetically\n"
   ]
  },
  {
   "cell_type": "code",
   "execution_count": null,
   "metadata": {},
   "outputs": [],
   "source": [
    "# Shorter words occur earlier than longer words that have matching letters\n"
   ]
  },
  {
   "cell_type": "markdown",
   "metadata": {},
   "source": [
    "## More string manipulation"
   ]
  },
  {
   "cell_type": "markdown",
   "metadata": {},
   "source": [
    "### 1. Checking string properties\n",
    "\n",
    "There are also many functions to check properties of strings including:\n",
    "\n",
    "- `isalnum()`: Returns True if all characters in the string are alphanumeric\n",
    "- `isalpha()`: Returns True if all characters in the string are in the alphabet\n",
    "- `isnumeric()`: Returns True if all characters in the string are numeric\n",
    "\n",
    "- `isspace()`: Returns True if all characters in the string are whitespaces\n",
    "\n",
    "- `islower()`: Returns True if all characters in the string are lower case\n",
    "- `isupper()`:Returns True if all characters in the string are upper case\n",
    "- `istitle()`: Returns True if the string follows the rules of a title\n",
    "\n",
    "Let's test some of these methods out...\n"
   ]
  },
  {
   "cell_type": "code",
   "execution_count": null,
   "metadata": {},
   "outputs": [],
   "source": [
    "# Checking if a string is all letters\n"
   ]
  },
  {
   "cell_type": "code",
   "execution_count": null,
   "metadata": {},
   "outputs": [],
   "source": [
    "# Checking if a string is all numbers\n"
   ]
  },
  {
   "cell_type": "code",
   "execution_count": null,
   "metadata": {},
   "outputs": [],
   "source": [
    "# Checking if a string only contains spaces\n"
   ]
  },
  {
   "cell_type": "code",
   "execution_count": null,
   "metadata": {},
   "outputs": [],
   "source": [
    "# Checking if a string is upper case\n"
   ]
  },
  {
   "cell_type": "markdown",
   "metadata": {},
   "source": [
    "### 2. String padding\n",
    "\n",
    "Often we want to remove extra spaces (called \"white space\") from the front or end of a string. Or conversely, sometimes we want to add extra spaces to make a set of strings the same length (this is known as \"string padding\"). \n",
    "\n",
    "Python strings have a number of methods that can pad/trim strings including: \n",
    "\n",
    "- `strip()`: Returns a trimmed version of the string (i.e., with no leading or trailing white space). \n",
    "- `center(num)`: Returns a centered string (with equal padding on both sides)\n",
    "- `zfill(num)`: Fills the string with a specified number of 0 values at the beginning\n",
    "\n",
    "Let's use a modified version of Melville quote to explore this\n"
   ]
  },
  {
   "cell_type": "code",
   "execution_count": null,
   "metadata": {},
   "outputs": [],
   "source": [
    "melville_quote2 = \"    a whale ship was my Yale College and my Harvard   \"\n",
    "melville_quote2"
   ]
  },
  {
   "cell_type": "code",
   "execution_count": null,
   "metadata": {},
   "outputs": [],
   "source": [
    "# Strip the white space\n"
   ]
  },
  {
   "cell_type": "code",
   "execution_count": null,
   "metadata": {},
   "outputs": [],
   "source": [
    "# Center the quote by padding with white space \n",
    "#. to have a total of 70 characters\n"
   ]
  },
  {
   "cell_type": "code",
   "execution_count": null,
   "metadata": {},
   "outputs": [],
   "source": [
    "# Make a number have leading 0's \n",
    "# Q: Why/when is this useful?\n"
   ]
  },
  {
   "cell_type": "markdown",
   "metadata": {},
   "source": [
    "### 3. Filling in strings with particular values\n",
    "\n",
    "There are a number of ways to fill in strings parts of a string with particular values. Perhaps the most useful is to use \"f strings\", which have the following syntax such as: \n",
    "\n",
    "`f\"my string {value_to_fill} will be filled in\"`.\n",
    "\n",
    "Where the value of the variable `value_to_fill` will be filled into the string. \n",
    "\n",
    "Let's try it out... \n"
   ]
  },
  {
   "cell_type": "code",
   "execution_count": null,
   "metadata": {},
   "outputs": [],
   "source": [
    "# Let's use an f-string\n",
    "\n"
   ]
  },
  {
   "cell_type": "code",
   "execution_count": null,
   "metadata": {},
   "outputs": [],
   "source": [
    "# We can also do formatting with f-strings\n"
   ]
  }
 ],
 "metadata": {
  "anaconda-cloud": {},
  "kernelspec": {
   "display_name": "Python 3 (ipykernel)",
   "language": "python",
   "name": "python3"
  },
  "language_info": {
   "codemirror_mode": {
    "name": "ipython",
    "version": 3
   },
   "file_extension": ".py",
   "mimetype": "text/x-python",
   "name": "python",
   "nbconvert_exporter": "python",
   "pygments_lexer": "ipython3",
   "version": "3.11.4"
  }
 },
 "nbformat": 4,
 "nbformat_minor": 4
}
