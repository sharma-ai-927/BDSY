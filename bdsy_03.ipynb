{
 "cells": [
  {
   "cell_type": "markdown",
   "id": "7deb2bbd-946a-46bf-b70e-5663212b61c4",
   "metadata": {},
   "source": [
    "#### Python II\n",
    "****Today we talk about Booleans. We also look at some of the important libraries such as Matplotlib, NumPy, and Pandas.**** \n"
   ]
  },
  {
   "cell_type": "markdown",
   "id": "413e90c3-790f-4047-b730-16a4529682fb",
   "metadata": {},
   "source": [
    "# 1. Booleans\n",
    "- Booleans represent one of the two values: `True` or `False` in Python.\n",
    "- They are very helpful when comparing strings and mathematical expressions in Python. "
   ]
  },
  {
   "cell_type": "code",
   "execution_count": 1,
   "id": "55f926af-49be-4907-b6a8-0bf1d8a642b4",
   "metadata": {},
   "outputs": [],
   "source": [
    "True + True + (False * 5)"
   ]
  },
  {
   "cell_type": "code",
   "execution_count": 2,
   "id": "309a35e4-b389-41fe-b243-79eae10337b4",
   "metadata": {},
   "outputs": [],
   "source": [
    "True ** False "
   ]
  },
  {
   "cell_type": "code",
   "execution_count": 3,
   "id": "3217d8ef-de63-4403-939a-1bff61c296d6",
   "metadata": {},
   "outputs": [],
   "source": [
    "True != False "
   ]
  },
  {
   "cell_type": "code",
   "execution_count": 4,
   "id": "c7815417-d348-4260-b366-e9d792e4f75d",
   "metadata": {},
   "outputs": [],
   "source": [
    "x = -4 \n",
    "(x ** 2) + (4 * x) == False \n"
   ]
  },
  {
   "cell_type": "code",
   "execution_count": 3,
   "id": "c3a34c96-c426-49e9-8183-d74e71f79227",
   "metadata": {},
   "outputs": [],
   "source": [
    "a = 5\n",
    "b = 10\n",
    "c = 15 \n",
    "\n",
    "h = a - b < -c \n",
    "i = a < a \n",
    "j = c <= c or c < a \n",
    "k = a != c and a > b - c "
   ]
  },
  {
   "cell_type": "code",
   "execution_count": 5,
   "id": "0118a0bf-f913-4f81-8ce6-39d48de9a17f",
   "metadata": {},
   "outputs": [],
   "source": [
    "print(h)\n",
    "print(i)\n",
    "print(j)\n",
    "print(k)"
   ]
  },
  {
   "cell_type": "code",
   "execution_count": 6,
   "id": "02e9347a-edd0-4f22-b5d6-e4a4727847d1",
   "metadata": {},
   "outputs": [],
   "source": [
    "l = not k \n",
    "print(l)"
   ]
  },
  {
   "cell_type": "code",
   "execution_count": 46,
   "id": "a4dbd9a4-bd91-4378-99e2-4ab23011326f",
   "metadata": {},
   "outputs": [],
   "source": [
    "\n",
    "a = 5\n",
    "b = 10\n",
    "c = 15\n",
    "x = (b > a) and (c < b) or (not (a + b > c))\n",
    "y = (b + a >= c) or (c / a > b / a)\n"
   ]
  },
  {
   "cell_type": "code",
   "execution_count": 7,
   "id": "e4def0fe-cbc0-478c-a7d1-5015bc7d7b30",
   "metadata": {},
   "outputs": [],
   "source": [
    "print(x)"
   ]
  },
  {
   "cell_type": "code",
   "execution_count": 8,
   "id": "e8d68f32-d29c-47c8-8420-82b3d8f5ed40",
   "metadata": {},
   "outputs": [],
   "source": [
    "print(y)"
   ]
  },
  {
   "cell_type": "code",
   "execution_count": 9,
   "id": "a4b44293-bff5-483f-bc9c-a2ba87a64e69",
   "metadata": {},
   "outputs": [],
   "source": [
    "\"apples\" > \"oranges\""
   ]
  },
  {
   "cell_type": "code",
   "execution_count": 10,
   "id": "50d50651-9307-469c-9bbf-c503c6f1d48b",
   "metadata": {},
   "outputs": [],
   "source": [
    "\"apples\" > \"apple\""
   ]
  },
  {
   "cell_type": "markdown",
   "id": "f3e8252c-a319-488c-9488-38c17545776e",
   "metadata": {},
   "source": [
    "# 2. Matplotlib"
   ]
  },
  {
   "cell_type": "markdown",
   "id": "f1722b2b-a960-4f4a-bf1f-3f6a36f17bb6",
   "metadata": {},
   "source": [
    "### Main Question: Is Netflix increasingly focusing on TV rather than movies in recent years?\n",
    "- To answer the above question, let us analyse a data set collected by Fixable which is third party Netflix search engine. \n",
    "- This dataset consists of tv shows and movies available on Netflix as of 2019."
   ]
  },
  {
   "cell_type": "code",
   "execution_count": 1,
   "id": "5a665d99-e89b-4259-b4f6-6dd0df9755d5",
   "metadata": {},
   "outputs": [],
   "source": [
    "import pandas as pd"
   ]
  },
  {
   "cell_type": "code",
   "execution_count": 2,
   "id": "e3511fb0-9161-401d-a566-6a6c86f34da8",
   "metadata": {},
   "outputs": [
    {
     "data": {
      "text/html": [
       "<div>\n",
       "<style scoped>\n",
       "    .dataframe tbody tr th:only-of-type {\n",
       "        vertical-align: middle;\n",
       "    }\n",
       "\n",
       "    .dataframe tbody tr th {\n",
       "        vertical-align: top;\n",
       "    }\n",
       "\n",
       "    .dataframe thead th {\n",
       "        text-align: right;\n",
       "    }\n",
       "</style>\n",
       "<table border=\"1\" class=\"dataframe\">\n",
       "  <thead>\n",
       "    <tr style=\"text-align: right;\">\n",
       "      <th></th>\n",
       "      <th>type</th>\n",
       "      <th>title</th>\n",
       "      <th>director</th>\n",
       "      <th>cast</th>\n",
       "      <th>country</th>\n",
       "      <th>date_added</th>\n",
       "      <th>release_year</th>\n",
       "      <th>rating</th>\n",
       "      <th>duration</th>\n",
       "      <th>listed_in</th>\n",
       "    </tr>\n",
       "  </thead>\n",
       "  <tbody>\n",
       "    <tr>\n",
       "      <th>0</th>\n",
       "      <td>Movie</td>\n",
       "      <td>Norm of the North: King Sized Adventure</td>\n",
       "      <td>Richard Finn, Tim Maltby</td>\n",
       "      <td>Alan Marriott, Andrew Toth, Brian Dobson, Cole...</td>\n",
       "      <td>United States, India, South Korea, China</td>\n",
       "      <td>9-Sep-19</td>\n",
       "      <td>2019</td>\n",
       "      <td>TV-PG</td>\n",
       "      <td>90 min</td>\n",
       "      <td>Children &amp; Family Movies, Comedies</td>\n",
       "    </tr>\n",
       "    <tr>\n",
       "      <th>1</th>\n",
       "      <td>Movie</td>\n",
       "      <td>Jandino: Whatever it Takes</td>\n",
       "      <td>NaN</td>\n",
       "      <td>Jandino Asporaat</td>\n",
       "      <td>United Kingdom</td>\n",
       "      <td>9-Sep-16</td>\n",
       "      <td>2016</td>\n",
       "      <td>TV-MA</td>\n",
       "      <td>94 min</td>\n",
       "      <td>Stand-Up Comedy</td>\n",
       "    </tr>\n",
       "    <tr>\n",
       "      <th>2</th>\n",
       "      <td>TV Show</td>\n",
       "      <td>Transformers Prime</td>\n",
       "      <td>NaN</td>\n",
       "      <td>Peter Cullen, Sumalee Montano, Frank Welker, J...</td>\n",
       "      <td>United States</td>\n",
       "      <td>8-Sep-18</td>\n",
       "      <td>2013</td>\n",
       "      <td>TV-Y7-FV</td>\n",
       "      <td>1 Season</td>\n",
       "      <td>Kids' TV</td>\n",
       "    </tr>\n",
       "    <tr>\n",
       "      <th>3</th>\n",
       "      <td>TV Show</td>\n",
       "      <td>Transformers: Robots in Disguise</td>\n",
       "      <td>NaN</td>\n",
       "      <td>Will Friedle, Darren Criss, Constance Zimmer, ...</td>\n",
       "      <td>United States</td>\n",
       "      <td>8-Sep-18</td>\n",
       "      <td>2016</td>\n",
       "      <td>TV-Y7</td>\n",
       "      <td>1 Season</td>\n",
       "      <td>Kids' TV</td>\n",
       "    </tr>\n",
       "    <tr>\n",
       "      <th>4</th>\n",
       "      <td>Movie</td>\n",
       "      <td>#realityhigh</td>\n",
       "      <td>Fernando Lebrija</td>\n",
       "      <td>Nesta Cooper, Kate Walsh, John Michael Higgins...</td>\n",
       "      <td>United States</td>\n",
       "      <td>8-Sep-17</td>\n",
       "      <td>2017</td>\n",
       "      <td>TV-14</td>\n",
       "      <td>99 min</td>\n",
       "      <td>Comedies</td>\n",
       "    </tr>\n",
       "  </tbody>\n",
       "</table>\n",
       "</div>"
      ],
      "text/plain": [
       "      type                                    title                  director  \\\n",
       "0    Movie  Norm of the North: King Sized Adventure  Richard Finn, Tim Maltby   \n",
       "1    Movie               Jandino: Whatever it Takes                       NaN   \n",
       "2  TV Show                       Transformers Prime                       NaN   \n",
       "3  TV Show         Transformers: Robots in Disguise                       NaN   \n",
       "4    Movie                             #realityhigh          Fernando Lebrija   \n",
       "\n",
       "                                                cast  \\\n",
       "0  Alan Marriott, Andrew Toth, Brian Dobson, Cole...   \n",
       "1                                   Jandino Asporaat   \n",
       "2  Peter Cullen, Sumalee Montano, Frank Welker, J...   \n",
       "3  Will Friedle, Darren Criss, Constance Zimmer, ...   \n",
       "4  Nesta Cooper, Kate Walsh, John Michael Higgins...   \n",
       "\n",
       "                                    country date_added  release_year  \\\n",
       "0  United States, India, South Korea, China   9-Sep-19          2019   \n",
       "1                            United Kingdom   9-Sep-16          2016   \n",
       "2                             United States   8-Sep-18          2013   \n",
       "3                             United States   8-Sep-18          2016   \n",
       "4                             United States   8-Sep-17          2017   \n",
       "\n",
       "     rating  duration                           listed_in  \n",
       "0     TV-PG    90 min  Children & Family Movies, Comedies  \n",
       "1     TV-MA    94 min                     Stand-Up Comedy  \n",
       "2  TV-Y7-FV  1 Season                            Kids' TV  \n",
       "3     TV-Y7  1 Season                            Kids' TV  \n",
       "4     TV-14    99 min                            Comedies  "
      ]
     },
     "execution_count": 2,
     "metadata": {},
     "output_type": "execute_result"
    }
   ],
   "source": [
    "netflix = pd.read_csv(\"netflix.csv\")\n",
    "netflix.head()\n"
   ]
  },
  {
   "cell_type": "code",
   "execution_count": 3,
   "id": "4b716a71-f719-4bd4-878c-2c5baf416fbf",
   "metadata": {},
   "outputs": [],
   "source": [
    "# Which column (variable) is most helpful in answering our main question?\n",
    "# Let us extract this column and convert it into a Python list called netflix_type. \n",
    "\n",
    "netflix_type = netflix[\"type\"].to_list()\n",
    "\n",
    "\n",
    "\n",
    "\n",
    "\n"
   ]
  },
  {
   "cell_type": "code",
   "execution_count": 4,
   "id": "4f1916d1-bdf8-4cbb-a6f1-b7f13a5a330f",
   "metadata": {},
   "outputs": [
    {
     "data": {
      "text/plain": [
       "6234"
      ]
     },
     "execution_count": 4,
     "metadata": {},
     "output_type": "execute_result"
    }
   ],
   "source": [
    "len(netflix_type)"
   ]
  },
  {
   "cell_type": "code",
   "execution_count": 5,
   "id": "022ca114-fd41-4934-8317-7146843541ae",
   "metadata": {},
   "outputs": [
    {
     "name": "stdout",
     "output_type": "stream",
     "text": [
      "['Movie', 'Movie', 'TV Show', 'TV Show', 'Movie', 'TV Show', 'Movie', 'Movie', 'TV Show', 'Movie']\n"
     ]
    }
   ],
   "source": [
    "print(netflix_type[0:10])"
   ]
  },
  {
   "cell_type": "code",
   "execution_count": 25,
   "id": "03f689f8-a50e-470b-b81e-da9e92a905cc",
   "metadata": {},
   "outputs": [],
   "source": [
    "# How many items in the list netflix_type are movies? Store your answer as movie_count. \n"
   ]
  },
  {
   "cell_type": "code",
   "execution_count": 54,
   "id": "ace4d760-3e7a-4c7c-8110-e000a6b5e0cd",
   "metadata": {},
   "outputs": [],
   "source": [
    "# How many items in the list netflix_type are TV shows? Store your answer as tv_show_count. \n",
    "\n"
   ]
  },
  {
   "cell_type": "code",
   "execution_count": null,
   "id": "e83b033d-1054-4368-b5fc-ef23fcdd9800",
   "metadata": {},
   "outputs": [],
   "source": [
    "# What other statistics can we compute to better answer the main question? \n",
    "# What visualization techniques can we use to better answer the main question?\n",
    "\n"
   ]
  },
  {
   "cell_type": "markdown",
   "id": "df607f7c-c507-4bbd-9735-f50f1cbf2977",
   "metadata": {},
   "source": [
    "####  Proportions"
   ]
  },
  {
   "cell_type": "code",
   "execution_count": 27,
   "id": "ae360bd2-930b-4026-922a-165945a7bcf8",
   "metadata": {},
   "outputs": [],
   "source": [
    "# What is the proportion of TV shows in the list netflix_type?\n",
    "\n"
   ]
  },
  {
   "cell_type": "markdown",
   "id": "e6112260-bc76-4381-9ce3-fd4cde0ebedb",
   "metadata": {},
   "source": [
    "####  Pie Chart "
   ]
  },
  {
   "cell_type": "code",
   "execution_count": 55,
   "id": "94b49a5c-9f2d-4bb3-a7df-51b91a98f80e",
   "metadata": {},
   "outputs": [],
   "source": [
    "# We can use matplotlib to visualize the data.\n",
    "\n",
    "import matplotlib.pyplot as plt\n",
    "%matplotlib inline\n"
   ]
  },
  {
   "cell_type": "code",
   "execution_count": 32,
   "id": "a2b8867d-16be-49c6-b298-f3f940ff107b",
   "metadata": {},
   "outputs": [],
   "source": [
    "# Let us first create a list containing the counts for movies and tv shows. \n",
    "\n",
    "type_count = \n",
    "\n",
    "# Let us also create a list with labels for the above counts. \n",
    "\n",
    "type_labels = "
   ]
  },
  {
   "cell_type": "code",
   "execution_count": 31,
   "id": "607a9b03-09b5-4dbd-8784-9aea5f57656e",
   "metadata": {},
   "outputs": [],
   "source": [
    "# Let us now create Pie chart.\n",
    "\n"
   ]
  },
  {
   "cell_type": "markdown",
   "id": "469f0e33-f2c6-4bfe-9b70-e6fd44482b77",
   "metadata": {},
   "source": [
    "####  Bar Graphs "
   ]
  },
  {
   "cell_type": "code",
   "execution_count": 33,
   "id": "16e53983-e473-446e-a372-318ec5185c6c",
   "metadata": {},
   "outputs": [],
   "source": [
    "# Let us also create a Bar Graph.\n",
    "\n"
   ]
  },
  {
   "cell_type": "markdown",
   "id": "39f4e5b2-9c20-489b-8927-0e357b0c0a6e",
   "metadata": {},
   "source": [
    "# 3. NumPy "
   ]
  },
  {
   "cell_type": "markdown",
   "id": "a529043b-6c99-4c32-9011-aa4848c188e9",
   "metadata": {},
   "source": [
    "### **Some Important Numpy functions/methods**"
   ]
  },
  {
   "cell_type": "code",
   "execution_count": null,
   "id": "2a361728-08c7-497c-a6cf-4101a3a1fcf9",
   "metadata": {},
   "outputs": [],
   "source": [
    "# In what follows X_1, X_2, .... are arbitrary/placeholder lists, and \n",
    "# N is arbitrary/placeholder ndarray. \n",
    "\n",
    "\n",
    "\n",
    "# For importing the NumPy package as np. \n",
    "import numpy as np\n",
    "\n",
    "\n",
    "\n",
    "\n",
    "# Creating NumPy arrays (ndarrays).\n",
    "\n",
    "np.array(X_1)                          # For creating one dimensional ndarray from the list X_1. \n",
    "\n",
    "np.arange(j,k)                         # Will create an ndarray with integers j through (k-1).\n",
    "\n",
    "np.array([X_1, X_2 ,...., X_m])        # For creating a matrix with m rows and n = len(X_1) columns where \n",
    "                                       # row 1 contains entries from X_1, row 2 contains entries from X_2\n",
    "                                       # and so on. (We require lengths of X_1, ...., X_m be equal.)\n",
    "\n",
    "np.zeros(X_1)                          # For creating a tensor with all entries equal to zero where \n",
    "                                       # the list X_1 contain information about the dimensions. \n",
    "\n",
    "\n",
    "\n",
    "\n",
    "\n",
    "\n",
    "\n",
    "\n",
    "# For extraction/slicing. \n",
    "N[j:k]                                 # For extracting elements j through (k-1).\n",
    "N[j:k, m:n, ...., r:s]                 # For extracting elements from different axes (provided N \n",
    "                                       # is a higher dimensional ndarray).\n",
    "\n",
    "\n",
    "\n",
    "\n",
    "\n",
    "# Some important functions and methods for ndarrays. \n",
    "\n",
    "np.sum(N)                              # Computes sum of the entries. \n",
    "np.sum(N, index = k)                   # Computes sum along axis k.\n",
    "np.mean(N)                             # Computes average of the entries.\n",
    "np.mean(N, index = k)                  # Computes average along axis k.\n",
    "np.median(N)                           # Computes median of the entries. \n",
    "np.max(N)                              # Computes maximum of the entries. \n",
    "np.min(N)                              # Computes minimum of the entries. \n",
    "np.std(N)                              # Computes standard deviation of the entries. \n",
    "np.percentile(N, [25, 50, 75])         # Computes 25th, 50th, and 75th percentiles. \n",
    "np.cumsum(N)                           # Returns ndarray with cumulative sums. \n",
    "np.diff(N)                             # Returns ndarray with differences of adjacent elements. \n",
    "\n",
    "N.dtype                                # Returns the type of the ndarray N. \n",
    "N.shape                                # Returns the size (dimension) of the ndarray N. \n",
    "N.astype(\"\")                           # For converting between dtypes. \n",
    "\n",
    "\n",
    "np.random.rand(n)                      # Generates n random numbers bewtween 0 and 1. \n",
    "np.repeat                              # For repeating each element of the array after themselves. \n",
    "np.concatenate                         # To join a sequence of arrays along an existing axis. \n",
    "np.random.permutation                  # Randomly permutes a sequence. \n",
    "np.unique                              # Returns a sorted unique elements of an array. \n",
    "\n",
    "\n",
    "\n",
    "\n",
    "\n",
    "\n",
    "\n",
    "\n",
    "\n",
    "\n"
   ]
  },
  {
   "cell_type": "markdown",
   "id": "88b0e1a2-fdf0-402b-8c26-29f852810236",
   "metadata": {},
   "source": [
    "### **NumPy - Basics** "
   ]
  },
  {
   "cell_type": "code",
   "execution_count": 8,
   "id": "206d5441-619f-416a-8d93-e234b338016a",
   "metadata": {},
   "outputs": [],
   "source": [
    "# Import the package numpy as np. \n",
    "\n",
    "import numpy as np\n",
    "\n"
   ]
  },
  {
   "cell_type": "code",
   "execution_count": 2,
   "id": "d6e2775c-ff88-49b5-9908-5064b7b53bdc",
   "metadata": {},
   "outputs": [],
   "source": [
    "# Create an ndarray containing first five prime numbers starting with 2. Store it as\n",
    "# first_five_primes. \n",
    "\n",
    "\n",
    "\n"
   ]
  },
  {
   "cell_type": "code",
   "execution_count": 3,
   "id": "2d5583cc-dc82-42d4-bb4d-c156ea2d9da2",
   "metadata": {},
   "outputs": [],
   "source": [
    "# Create an ndarry containing first five alphabets. Store it as first_five_alpha. \n",
    "\n",
    "\n"
   ]
  },
  {
   "cell_type": "code",
   "execution_count": 4,
   "id": "135dd863-9a11-474c-a43f-adcd5069f06e",
   "metadata": {},
   "outputs": [],
   "source": [
    "# Create an ndarry containing boolean entries True and False. Store it as \n",
    "# boolean_array. \n",
    "\n",
    "\n"
   ]
  },
  {
   "cell_type": "code",
   "execution_count": 5,
   "id": "bd5cb264-e022-4344-9dbb-5f00ac5f9263",
   "metadata": {},
   "outputs": [],
   "source": [
    "# Print the dtypes of above three ndarrays. \n",
    "\n",
    "\n"
   ]
  },
  {
   "cell_type": "code",
   "execution_count": 6,
   "id": "93fbb558-e00e-474e-a3a9-a6dd83bd69da",
   "metadata": {},
   "outputs": [],
   "source": [
    "# Replace the number 2 in first_five_primes with the boolean True. \n",
    "\n",
    "\n",
    "\n",
    "\n",
    "# Print the modified ndarray and its dtype. \n",
    "\n",
    "\n",
    "\n",
    "\n"
   ]
  },
  {
   "cell_type": "code",
   "execution_count": 7,
   "id": "286a333b-5c35-48f2-aaa4-6049ceff0a7d",
   "metadata": {},
   "outputs": [],
   "source": [
    "# Replace the alphabet b in first_five_alphabets with the element 2. \n",
    "\n",
    "\n",
    "\n",
    "# Print the modified ndarray and its type. \n",
    "\n",
    "\n",
    "\n"
   ]
  },
  {
   "cell_type": "code",
   "execution_count": 8,
   "id": "9fb0b034-f6d2-4dc1-9539-aa32490deeec",
   "metadata": {},
   "outputs": [],
   "source": [
    "# In the above modified ndarray, check if 2 is a number or a string?\n",
    "\n",
    "\n",
    "\n",
    "# You can also use following: \n",
    "#type(first_five_alpha[1])\n",
    "\n"
   ]
  },
  {
   "cell_type": "code",
   "execution_count": 9,
   "id": "20149720-cc10-4d8b-a5a2-effb016649d7",
   "metadata": {},
   "outputs": [],
   "source": [
    "# Print an ndarray of first 100 positive integers. \n",
    "\n",
    "\n"
   ]
  },
  {
   "cell_type": "markdown",
   "id": "b7eb0b57-62a2-4702-a88f-fb050bc1f75f",
   "metadata": {},
   "source": [
    "### **Numpy - Matrices and Tensors (Higher Order ndarrays)**"
   ]
  },
  {
   "cell_type": "code",
   "execution_count": 12,
   "id": "912be897-ff9e-443c-b31d-028d38920c60",
   "metadata": {},
   "outputs": [],
   "source": [
    "# Create a 3x2 (3 rows and 2 columns) matrix with first row containing first two even numbers \n",
    "# starting with the number 2, second row containing the next two even numbers, and so on. \n",
    "# Store you answer as even_matrix. \n",
    "\n",
    "\n",
    "\n",
    "\n",
    "\n",
    "\n",
    "\n"
   ]
  },
  {
   "cell_type": "code",
   "execution_count": 13,
   "id": "888c8a2e-3207-47f9-9114-7803b33b2e33",
   "metadata": {},
   "outputs": [],
   "source": [
    "# Extract second element in the second row of the above matrix. \n",
    "\n",
    "\n",
    "\n"
   ]
  },
  {
   "cell_type": "code",
   "execution_count": 14,
   "id": "90d57a95-bca5-49c2-a0bf-624740ddfb27",
   "metadata": {},
   "outputs": [],
   "source": [
    "# Extract the sub-matrix formed by last two rows. \n",
    "\n",
    "\n"
   ]
  },
  {
   "cell_type": "code",
   "execution_count": 15,
   "id": "7151f8e1-990b-4e85-8762-186e2d933d86",
   "metadata": {},
   "outputs": [],
   "source": [
    "# Change all the entries in the sceond row of the matrix to 99. \n",
    "\n",
    "\n",
    "\n"
   ]
  },
  {
   "cell_type": "code",
   "execution_count": 16,
   "id": "82bbb6ea-23e6-4a33-bc92-89db1ceb661d",
   "metadata": {},
   "outputs": [],
   "source": [
    "# Print the sum of all the entries in the above matrix. \n",
    "\n",
    "\n"
   ]
  },
  {
   "cell_type": "code",
   "execution_count": 17,
   "id": "fa43918a-c497-4fc0-9a58-d3be45eeb616",
   "metadata": {},
   "outputs": [],
   "source": [
    "# Print the sum down the rows. \n",
    "\n",
    "\n"
   ]
  },
  {
   "cell_type": "code",
   "execution_count": 18,
   "id": "22ba3dbd-bc58-4ae1-baaa-ec04a21a548e",
   "metadata": {},
   "outputs": [],
   "source": [
    "# Print the sum across the columns. \n",
    "\n",
    "\n"
   ]
  },
  {
   "cell_type": "code",
   "execution_count": 19,
   "id": "eb6a5c8c-578a-4e24-9205-44a5bd85f4f3",
   "metadata": {},
   "outputs": [],
   "source": [
    "# Count the numbers of entires that are greater than 50. \n",
    "\n",
    "\n"
   ]
  },
  {
   "cell_type": "code",
   "execution_count": 20,
   "id": "cf560a1c-859a-46ec-8c30-ed7d93d67ce3",
   "metadata": {},
   "outputs": [],
   "source": [
    "# Create a 100x100 matrix with all entries zero. \n",
    "\n",
    "\n"
   ]
  },
  {
   "cell_type": "code",
   "execution_count": 21,
   "id": "1c761392-408b-4fbe-9bc0-a9877ceaa9e6",
   "metadata": {},
   "outputs": [],
   "source": [
    "# Change middle 20 rows and columns of the above matrix to 1.\n",
    "# Store it as zero_matrix. \n",
    "\n",
    "\n",
    "\n",
    "\n",
    "# Output an image of the above matrix using plt.imshow() function. \n",
    "\n"
   ]
  },
  {
   "cell_type": "code",
   "execution_count": 22,
   "id": "bf7c44eb-55b7-4193-b4c1-cef39ce88d67",
   "metadata": {},
   "outputs": [],
   "source": [
    "# Change the above matrix to a boolean matrix. Store your answer as bool_matrix. \n",
    "\n",
    "\n",
    "\n",
    "# Output an image of the above matrix using plt.imshow() function. \n",
    "\n",
    "\n",
    "\n"
   ]
  },
  {
   "cell_type": "code",
   "execution_count": 23,
   "id": "29f54b5f-0326-4b80-8bf2-fff53d2cea90",
   "metadata": {},
   "outputs": [],
   "source": [
    "# What does ~zero.matrix do?\n",
    "\n",
    "#plt.imshow(~bool_matrix, cmap = \"grey\");\n",
    "#plt.colorbar();\n"
   ]
  },
  {
   "cell_type": "markdown",
   "id": "4702f506-9c39-41cb-b642-0fcf9e4437bb",
   "metadata": {},
   "source": [
    "# 4. Pandas "
   ]
  },
  {
   "cell_type": "markdown",
   "id": "ab49c6ea-f117-49c0-969c-05aa0a427682",
   "metadata": {},
   "source": [
    "### **Important Functions and Methods** "
   ]
  },
  {
   "cell_type": "code",
   "execution_count": null,
   "id": "b707cf08-d71f-413d-b811-bf61ed5eced6",
   "metadata": {},
   "outputs": [],
   "source": [
    "# In what follows, X_df and Y_df are arbitrary/placeholder \n",
    "# Pandas DataFrames. z_series is an abrbitrary/placeholder Pandas Series.  \n",
    "# Most of the functions and methods below work for both DataFrames and Series. \n",
    "\n",
    "\n",
    "\n",
    "\n",
    "\n",
    "# For importing Pandas Library as pd. \n",
    "\n",
    "import pandas as pd\n",
    "\n",
    "\n",
    "\n",
    "\n",
    "\n",
    "\n",
    "\n",
    "# For reading data into the notebook as Pandas DataFrame from a .csv file. \n",
    "\n",
    "pd.read_csv(\"file_name.csv\")                                # With default index. \n",
    "pd.read_csv(\"file_name.csv\", index_col = \"\")                # With index set to your choice of column in the DataFrame. \n",
    "\n",
    "\n",
    "\n",
    "\n",
    "\n",
    "\n",
    "# For checking some basic features of the DataFrame. \n",
    "\n",
    "X_df.head()                                                 # First five rows.                       \n",
    "X_df.tail()                                                 # Last five rows. \n",
    "X_df                                                        # First five and the last five rows. \n",
    "display(type(X_df), X_df.dytpes, X_df.shape)                # To check type, dtypes, and shape of the DataFrame.\n",
    "X_df.info                                                   # Will return basic information about the DataFrame.\n",
    "\n",
    "\n",
    "\n",
    "\n",
    "\n",
    "\n",
    "\n",
    "# Columns. \n",
    "\n",
    "X_df.columns                                                # Will return columns names. \n",
    "\n",
    "X_df.columns.to_numpy()                                     # Will return an ndarray containing column names. \n",
    "col_array = np.array(X_df.columns)                          # Will retuen an ndarray col_array containing column names. \n",
    "\n",
    "X_df.rename(columns = {\"old_name\": \"new_name\"})             # For changing column names. (Doesn't change the original DataFrame.)\n",
    "X_df[\"col_name\"] or X_df.col_name                           # For extracting a column as a Pandas Series.\n",
    "\n",
    "X_df.set_index(\"col_name\")                                  # Deletes old index and sets col_name as the new index.\n",
    "X_df.reset_index()                                          # Will add the index as a separate column and the default index\n",
    "                                                            # as the new index.\n",
    "X_df[\"new_column\"] = z_series                               # Adds z_series as a column to the DataFrame X_df.\n",
    "X_df[[\"\",\"\",....,\"\"]]                                       # Extracts multiple columns as a DataFrame. \n",
    "\n",
    "\n",
    "\n",
    "\n",
    "\n",
    "\n",
    "\n",
    "# Rows.\n",
    "\n",
    "X_df.iloc[]                                  # For extracting via default indexing (0,1,2,....).\n",
    "X_df.loc[]                                   # For extracting via the index. \n",
    "X_df[bool_mask]                              # For extracting via (correctly constructed) boolean mask. \n",
    "\n",
    "\n",
    "\n",
    "\n",
    "\n",
    "\n",
    "\n",
    "\n",
    "# Joining/Merging Dataframes.\n",
    "\n",
    "\n",
    "X_df.join(Y_df, how = \"\")                                       # When there is a common index. \n",
    "                                                                # Will join Dataframes X_df and Y_df using how = \"\" method.\n",
    "                                                                # (how could be \"left\", \"right\", \"inner\", and \"outer\".)\n",
    "\n",
    "\n",
    "                                          \n",
    "X_df.merge(Y_df, how = \"\")                                      # When there is No common index but a common column.\n",
    "\n",
    "                                           \n",
    "X_df.merge(Y_df, how = \"\", left_on = \"\", right_on = \"\")         # When there is No common index nor a common column.\n",
    "                                                                # One needs to specify which columns to align by using\n",
    "                                                                # left_on = \"\" and right_on = \"\".\n",
    "\n",
    "\n",
    "\n",
    "\n",
    "\n",
    "\n",
    "\n",
    "\n",
    "\n",
    "\n",
    "# Computing basic statistics. \n",
    "\n",
    "X_df.sort_values(\"col_name\")                                   # For sorting values with respect to the column col_name. \n",
    "X_df.describe().round()                                        # Returns various statistics for quantitative variables in\n",
    "                                                               # the DataFrame.\n",
    "\n",
    "X_df.groupby(\"col_name\").agg(\"statistic_name\")                 # Computes statistic_name for quantitative variables for \n",
    "                                                               # various groups in col_name. \n",
    "\n",
    "X_df.groupby(\"col_name\").agg(                                  # For computing different statistics for different columns          \n",
    "   new_col1 = (\"col_name1\", \"statistic_name1\"),                # with respect to the same grups in col_name. \n",
    "   new_col2 = (\"col_name2\", \"statistic_name2\"),\n",
    "   new_col3 = (\"col_name3\", \"statistic_name3\")\n",
    ")                                                              \n",
    "\n",
    "\n",
    "\n",
    "\n",
    "pd.Dataframe # For creating a Pandas DataFrame from a dictionary, for example. \n",
    "my_df.sample(n = ) # Returns a random sample of items from an axis of object. \n",
    "\n",
    "\n",
    "\n"
   ]
  },
  {
   "cell_type": "markdown",
   "id": "f460fec7-dace-4875-af5a-b0ca25dc9289",
   "metadata": {},
   "source": [
    "## **Pandas DataFrame - Eyeballing** "
   ]
  },
  {
   "cell_type": "code",
   "execution_count": 12,
   "id": "81f6d34f-57e4-47a2-9dec-a99f45e412a5",
   "metadata": {},
   "outputs": [],
   "source": [
    "# Read the data as Pandas DataFrame. \n",
    "# Store it as salaries_df.\n",
    "\n",
    "\n",
    "\n",
    "\n"
   ]
  },
  {
   "cell_type": "code",
   "execution_count": 13,
   "id": "1b2e3062-f94b-4d60-8f29-6204cbcd4c18",
   "metadata": {},
   "outputs": [],
   "source": [
    "# First 5 rows of the DataFrame.\n",
    "\n",
    "#salaries_df.head()"
   ]
  },
  {
   "cell_type": "code",
   "execution_count": 56,
   "id": "0a06f6b5-380a-4557-a0f0-67b3ea302d0f",
   "metadata": {},
   "outputs": [],
   "source": [
    "# Last 3 rows of the DataFrame.  \n",
    "\n",
    "#salaries_df.tail(3)"
   ]
  },
  {
   "cell_type": "code",
   "execution_count": 57,
   "id": "5875739f-c7be-49e2-8584-ee03a40a9735",
   "metadata": {},
   "outputs": [],
   "source": [
    "# First 5 and last 5 rows of the DataFrame.\n",
    "\n",
    "#salaries_df"
   ]
  },
  {
   "cell_type": "code",
   "execution_count": 16,
   "id": "f025eafe-93d3-4537-9594-b3bd6e6fa209",
   "metadata": {},
   "outputs": [],
   "source": [
    "# Let us explore some basic features of the DataFrame.  \n",
    "\n",
    "\n",
    "#display(type(salaries_df), salaries_df.shape)\n",
    "\n"
   ]
  },
  {
   "cell_type": "code",
   "execution_count": 59,
   "id": "91fc19c5-1e8c-4978-ad3c-3994ccd93ee1",
   "metadata": {},
   "outputs": [],
   "source": [
    "# What does salaries_df.info do?\n",
    "\n",
    "\n",
    "#salaries_df.info"
   ]
  },
  {
   "cell_type": "markdown",
   "id": "20e6893c-2fcd-418a-b0af-f6a48c42c8fe",
   "metadata": {},
   "source": [
    "\n",
    "\n",
    "\n",
    "\n",
    "\n",
    "\n",
    "\n",
    "\n"
   ]
  },
  {
   "cell_type": "markdown",
   "id": "10ede8ed-0846-4fc5-a1c0-483bf76a0efa",
   "metadata": {},
   "source": [
    "## **Pandas DataFrame - Basic Column Manipulations** "
   ]
  },
  {
   "cell_type": "code",
   "execution_count": 60,
   "id": "295ff9fe-5801-46e1-8897-c88766ade5f1",
   "metadata": {},
   "outputs": [],
   "source": [
    "# Let us explore columns names.\n",
    "\n",
    "#salaries_df.columns"
   ]
  },
  {
   "cell_type": "code",
   "execution_count": 61,
   "id": "631c0d41-84bd-44e4-b83c-12c9c2514f6e",
   "metadata": {},
   "outputs": [],
   "source": [
    "# Store columns of the DataFrame as an ndarray called data_columns. (There are at least two ways.)\n",
    "\n",
    "\n",
    "\n",
    "\n",
    "\n",
    "#type(data_columns)"
   ]
  },
  {
   "cell_type": "code",
   "execution_count": 62,
   "id": "7b6211e7-fe93-431e-8f65-64e14105ad4a",
   "metadata": {},
   "outputs": [],
   "source": [
    "# How to change names of columns?\n",
    "# Rename \"work_models\" to \"work_mode\". \n",
    "# Store your answer as \"salaries_df\".\n",
    "\n",
    "\n",
    "\n",
    "\n",
    "#salaries_df.head(3)\n"
   ]
  },
  {
   "cell_type": "code",
   "execution_count": 64,
   "id": "5660f854-6acd-4a0e-85da-80c6ee1d72d1",
   "metadata": {},
   "outputs": [],
   "source": [
    "# Extracting a given column as a Pandas Series. \n",
    "# Extract \"hours_per_week\" as a Pandas Series called \"col_1\".\n",
    "\n",
    "\n",
    "\n",
    "\n",
    "#type(col_1)"
   ]
  },
  {
   "cell_type": "code",
   "execution_count": 65,
   "id": "090c5031-802d-4c3e-895d-ac445315c3bf",
   "metadata": {},
   "outputs": [],
   "source": [
    "# Pandas Series is almost like an ndarray. Hence, all \"np.\" functions work on a Pandas Series as well. \n",
    "# We will exploit this fact later in the lecture. \n",
    "\n",
    "#display(col_1.head(3), col_1.dtype, col_1.shape)"
   ]
  },
  {
   "cell_type": "code",
   "execution_count": 66,
   "id": "45ec9ba4-77e6-47ab-8ad2-8a871224f4e3",
   "metadata": {},
   "outputs": [],
   "source": [
    "# Another way. \n",
    "\n",
    "#col_1_copy = salaries_df.hours_per_week\n",
    "#col_1 == col_1_copy\n"
   ]
  },
  {
   "cell_type": "code",
   "execution_count": 70,
   "id": "d4678964-e6f5-4471-8b79-7c94a9a57ccf",
   "metadata": {},
   "outputs": [],
   "source": [
    "# Can you convert a Pandas Series to a Pandas DataFrame?\n",
    "# The following code will turn the original index to a new separate column, and will set Pandas default index\n",
    "# 0,1,2,... to be the new index. Thereby, creating a Pandas DataFrame. \n",
    "\n",
    "\n",
    "\n",
    "#col_1_df = col_1.reset_index()\n",
    "\n",
    "#display(type(col_1_df), col_1_df.head(3))"
   ]
  },
  {
   "cell_type": "code",
   "execution_count": 71,
   "id": "6a9d9d64-e347-4c38-908e-3bf406d554f5",
   "metadata": {},
   "outputs": [],
   "source": [
    "# How to add a Pandas Series as a column to a Pandas DataFrame?\n",
    "\n",
    "# Create a Pandas Series containing information about salary earned per hour. \n",
    "# Store your series as \"salary_every_hour\". \n",
    "\n",
    "\n",
    "\n",
    "\n",
    "\n",
    "\n",
    "\n",
    "# Let us now add the Pandas Series \"salary_every_hour\" as a column (with the name \n",
    "# salary_per_hour) to the DataFrame \"salaries_df\". \n",
    "\n",
    "\n",
    "\n",
    "\n",
    "\n",
    "\n",
    "#salaries_df.head(3)\n",
    "\n",
    "\n"
   ]
  },
  {
   "cell_type": "code",
   "execution_count": 72,
   "id": "73157db3-a9e0-4edf-9c9e-29809464fb4b",
   "metadata": {},
   "outputs": [],
   "source": [
    "# How to set a column as an index (instead of default index coding 0,1,2,....)?\n",
    "# Write a code to read the data as a Pandas DataFrame. Store it as \"salaries_df_copy\". \n",
    "# Also ensure the column work_year is the index. \n",
    "\n",
    "\n",
    "\n",
    "\n",
    "#salaries_df_copy = pd.read_csv(\"data_science_salaries_2.csv\", index_col = \"work_year\")\n",
    "#salaries_df_copy.head(3)\n",
    "\n",
    "\n",
    "\n",
    "\n",
    "# For this data set it may be better to work with default index coding since we don't have a column \n",
    "# that has unique entries for different rows. However, it also depends on the context and the problem \n",
    "# we are trying to solve using the DataFrame. \n",
    "\n"
   ]
  },
  {
   "cell_type": "code",
   "execution_count": 73,
   "id": "2519ac53-002d-4052-9a35-da34de06d780",
   "metadata": {},
   "outputs": [],
   "source": [
    "# How to reset index to a different column?\n",
    "# Delete the index \"work_year\" from the DataFrame \"salaries_df_copy\" and set the column \"job_title\" as the new index. \n",
    "# Display first three rows of your resulting DataFrame. \n",
    "# Write your code inside the display function so that DataFrame remains unaltered. \n",
    "\n",
    "\n",
    "\n",
    "#display()\n",
    "\n",
    "\n",
    "\n",
    "\n",
    "# If you want to retain the old index as a column in your data set, then \n",
    "# the following code is a better choice. \n",
    "\n",
    "#display(salaries_df_copy.reset_index().set_index(\"job_title\").head(3))\n",
    "\n",
    "\n"
   ]
  },
  {
   "cell_type": "code",
   "execution_count": 74,
   "id": "aa4a1dc0-40a3-4bad-ba31-dfd67e54f8f7",
   "metadata": {},
   "outputs": [],
   "source": [
    "# How to extract mulptiple columns as a (smaller) DataFrame?\n",
    "# Extract \"salary_in_usd\", \"hours_per_week\", and \"job_title\" as a separate (smaller) Pandas DataFrame.\n",
    "# Store it as \"salaries_subset_df\". \n",
    "\n",
    "\n",
    "\n",
    "\n",
    "#display(type(salaries_subset_df), salaries_subset_df.head(3))\n",
    "\n"
   ]
  },
  {
   "cell_type": "markdown",
   "id": "e1b2128c-9ed1-4170-b5fd-a0c4badcdcb0",
   "metadata": {},
   "source": [
    "\n",
    "\n",
    "\n",
    "\n",
    "\n",
    "\n",
    "\n"
   ]
  },
  {
   "cell_type": "markdown",
   "id": "6c807b9b-5989-4125-84da-a436c28a022a",
   "metadata": {},
   "source": [
    "## **Pandas DataFrame - Extracting Rows** "
   ]
  },
  {
   "cell_type": "code",
   "execution_count": 75,
   "id": "cea6575f-8fec-436e-b87d-f0abdc3ca64f",
   "metadata": {},
   "outputs": [],
   "source": [
    "# Let us look at DataFrames \"salaries_df\" and \"salaries_df_copy\". \n",
    "\n",
    "#display(salaries_df.head(2), salaries_df_copy.head(2))"
   ]
  },
  {
   "cell_type": "code",
   "execution_count": 76,
   "id": "acf09bfa-daa1-4bf7-af9f-e8baf864a4d3",
   "metadata": {},
   "outputs": [],
   "source": [
    "# Extract rows 100 through 103 from the DataFrame \"salaries_df\". (index number)\n",
    "\n",
    "\n",
    "\n"
   ]
  },
  {
   "cell_type": "code",
   "execution_count": 77,
   "id": "d194e0fd-78f0-439e-8bc6-04dcc84aea66",
   "metadata": {},
   "outputs": [],
   "source": [
    "# Extract all rows with \"work_year\" = 2024 from the DataFrame \"salaries_df_copy\". (index name)\n",
    "\n",
    "\n",
    "\n"
   ]
  },
  {
   "cell_type": "code",
   "execution_count": 78,
   "id": "cb0aea00-01fd-4071-a543-984b2917f162",
   "metadata": {},
   "outputs": [],
   "source": [
    "# Extract all rows with \"work_year\" = 2024 from the DataFrame \"salaries_df\".\n",
    "# Hint: Use a boolean mask \"bool_mask\".\n",
    "\n",
    "\n",
    "\n"
   ]
  },
  {
   "cell_type": "code",
   "execution_count": 79,
   "id": "105e9f20-a0b7-4ff5-a672-79f0a1df79cf",
   "metadata": {},
   "outputs": [],
   "source": [
    "# From the Pandas DataFrame \"salaries_df\", extract rows corresponding to 2024 from the column\n",
    "# \"salary_in_usd\" and store it as \"salary_2024_srs\". \n",
    "\n",
    "\n",
    "\n",
    "\n"
   ]
  },
  {
   "cell_type": "code",
   "execution_count": 68,
   "id": "19b1dad5-dbc1-4ff0-97fa-d4f42e2668fe",
   "metadata": {},
   "outputs": [],
   "source": [
    "# From the Pandas DataFrame \"salaries_df_copy\", extract rows corresponsding to 2024 from the column \n",
    "# \"salary_in_usd\" and store it as \"salary_2024_srs_copy\". \n",
    "\n",
    "#salary_2024_srs_copy = salaries_df_copy[\"salary_in_usd\"].filter(like = \"2024\")\n",
    "#salary_2024_srs_copy "
   ]
  },
  {
   "cell_type": "markdown",
   "id": "235a2f91-5064-4523-8527-5333f2f03eeb",
   "metadata": {},
   "source": [
    "\n",
    "\n",
    "\n",
    "\n",
    "\n",
    "\n",
    "\n"
   ]
  },
  {
   "cell_type": "markdown",
   "id": "f09fa680-c5e4-42ab-a4c5-c32b3e50c95e",
   "metadata": {},
   "source": [
    "\n",
    "\n",
    "\n",
    "\n"
   ]
  },
  {
   "cell_type": "markdown",
   "id": "dac1c16b-6160-47df-b85b-cf4e4b0ec666",
   "metadata": {},
   "source": [
    "# 4. Pandas DataFrame - Let us do some statistics! "
   ]
  },
  {
   "cell_type": "code",
   "execution_count": 37,
   "id": "c32ad38f-fe40-47b0-b805-3bb01acbc5cd",
   "metadata": {},
   "outputs": [],
   "source": [
    "# Let us recall salaries_df. \n",
    "\n",
    "#salaries_df.head() "
   ]
  },
  {
   "cell_type": "code",
   "execution_count": 70,
   "id": "ae27f4d4-e54a-4e61-a08b-49b429f3d3e2",
   "metadata": {},
   "outputs": [],
   "source": [
    "# Sorting values.\n",
    "# Sorted values of a quantiative variable is an important example of multi-variable statistic. \n",
    "\n",
    "\n",
    "# Sort Dataframe salaries_df so that salary_in_usd is arranged smallest to largest. \n",
    "#sorted_1 = salaries_df.sort_values(\"salary_in_usd\")\n",
    "\n",
    "# Sort Dataframe salaries_df so that salary_in_usd is arranged largest to smallest. \n",
    "#sorted_2 = salaries_df.sort_values(\"salary_in_usd\", ascending = False)\n",
    "\n",
    "#display(sorted_1.head(), sorted_2.head())\n",
    "\n"
   ]
  },
  {
   "cell_type": "code",
   "execution_count": 39,
   "id": "63038795-8b68-48b8-9ef8-728732b9f164",
   "metadata": {},
   "outputs": [],
   "source": [
    "# A cool function for Pandas DataFrame to compute various statistics. \n",
    "\n",
    "#salaries_df.describe().round()  "
   ]
  },
  {
   "cell_type": "code",
   "execution_count": 40,
   "id": "1ffdf0c9-3746-4eb6-a215-0069308ebd3a",
   "metadata": {},
   "outputs": [],
   "source": [
    "# What if we want to compute statistics for various groups? \n",
    "\n",
    "# Which groups? Let us work with \"work_mode\".\n",
    "# Compute means for the columns \"salary_in_usd\", \"salary_per_hour\", and \"hours_per_week\" using the grouping \n",
    "# \"work_mode\". Store your as \"stats_1\". \n",
    "\n",
    "\n",
    "#stats_1\n",
    "\n"
   ]
  },
  {
   "cell_type": "code",
   "execution_count": null,
   "id": "b99acb13-5d72-4ce4-9de3-63314b7793cf",
   "metadata": {},
   "outputs": [],
   "source": []
  },
  {
   "cell_type": "code",
   "execution_count": 41,
   "id": "c552cdfc-cb95-476c-ae57-3ab6150abe97",
   "metadata": {},
   "outputs": [],
   "source": [
    "# What if we want to compute different statistics for different columns with respect \n",
    "# to the same groups?\n",
    "\n",
    "#stats_2 = salaries_df.groupby(\"work_mode\").agg(\n",
    "#    mean_salary_usd = (\"salary_in_usd\", \"mean\"),\n",
    "#    median_hours_week = (\"hours_per_week\", \"median\"),\n",
    "#    max_hourly_rate = (\"salary_per_hour\", \"max\")\n",
    "#    )\n",
    "\n",
    "#stats_2"
   ]
  },
  {
   "cell_type": "code",
   "execution_count": null,
   "id": "dba1924e-b5d7-46e2-92a1-576a293025d9",
   "metadata": {},
   "outputs": [],
   "source": []
  }
 ],
 "metadata": {
  "kernelspec": {
   "display_name": "Python 3 (ipykernel)",
   "language": "python",
   "name": "python3"
  },
  "language_info": {
   "codemirror_mode": {
    "name": "ipython",
    "version": 3
   },
   "file_extension": ".py",
   "mimetype": "text/x-python",
   "name": "python",
   "nbconvert_exporter": "python",
   "pygments_lexer": "ipython3",
   "version": "3.11.4"
  }
 },
 "nbformat": 4,
 "nbformat_minor": 5
}
